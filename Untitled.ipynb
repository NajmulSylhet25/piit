{
 "cells": [
  {
   "cell_type": "code",
   "execution_count": null,
   "id": "26eae8f3-f323-4eff-926c-6f4ba454de03",
   "metadata": {},
   "outputs": [],
   "source": []
  }
 ],
 "metadata": {
  "kernelspec": {
   "display_name": "",
   "name": ""
  },
  "language_info": {
   "name": ""
  }
 },
 "nbformat": 4,
 "nbformat_minor": 5
}
