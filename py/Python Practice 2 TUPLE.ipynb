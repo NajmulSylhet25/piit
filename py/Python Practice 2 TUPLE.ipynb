{
 "cells": [
  {
   "cell_type": "markdown",
   "id": "9326c31f-d47d-439f-aa32-0284fb1bc598",
   "metadata": {},
   "source": [
    "#TUPLE \n",
    "-A tuple in Python is an ordered collection of items, similar to a list, but with a key distinction: immutable. This means that once a tuple is created, its elements cannot be changed, added,or removed\n",
    "\n",
    "-Imutable \n",
    "-Ordered \n",
    " -Duplicable \n",
    "-Heterogenous (accepts multiple data types - no, text,logical) "
   ]
  },
  {
   "cell_type": "code",
   "execution_count": 5,
   "id": "81bd69a1-fd5d-4d44-9316-9b683fbc208d",
   "metadata": {},
   "outputs": [],
   "source": [
    "# Empty tuple\n",
    "my_tuple=()"
   ]
  },
  {
   "cell_type": "code",
   "execution_count": 6,
   "id": "205c7886-44de-4307-8088-856c818a0370",
   "metadata": {},
   "outputs": [
    {
     "data": {
      "text/plain": [
       "tuple"
      ]
     },
     "execution_count": 6,
     "metadata": {},
     "output_type": "execute_result"
    }
   ],
   "source": [
    "type(my_tuple)"
   ]
  },
  {
   "cell_type": "code",
   "execution_count": 9,
   "id": "9626f14d-156e-474d-a4a9-7da9d56b4cd4",
   "metadata": {},
   "outputs": [],
   "source": [
    "#Tuple with multiple items\n",
    "fruits=(\"apple\", \"banana\", \"cherry\")"
   ]
  },
  {
   "cell_type": "code",
   "execution_count": 10,
   "id": "d262ec89-92fe-4e9c-bfa2-fc6199abd81a",
   "metadata": {},
   "outputs": [
    {
     "data": {
      "text/plain": [
       "('apple', 'banana', 'cherry')"
      ]
     },
     "execution_count": 10,
     "metadata": {},
     "output_type": "execute_result"
    }
   ],
   "source": [
    "fruits"
   ]
  },
  {
   "cell_type": "code",
   "execution_count": 13,
   "id": "e3b50e02-3fcd-4c0a-9486-a87fb1e286f5",
   "metadata": {},
   "outputs": [],
   "source": [
    "# Tuple with mixed data types\n",
    "mixed_tuple=(1, \"hello\", 3.14, True)"
   ]
  },
  {
   "cell_type": "code",
   "execution_count": 15,
   "id": "1e589b5e-e64a-465e-b340-525928d6fbe3",
   "metadata": {},
   "outputs": [
    {
     "data": {
      "text/plain": [
       "(1, 'hello', 3.14, True)"
      ]
     },
     "execution_count": 15,
     "metadata": {},
     "output_type": "execute_result"
    }
   ],
   "source": [
    "mixed_tuple"
   ]
  },
  {
   "cell_type": "code",
   "execution_count": 17,
   "id": "e0eb2c11-d75d-430d-954a-0f629d0b8112",
   "metadata": {},
   "outputs": [],
   "source": [
    "#Single-item tuple (note the comma)\n",
    "single_item_tuple=(\"orange\",)"
   ]
  },
  {
   "cell_type": "code",
   "execution_count": 18,
   "id": "e845703c-2f2c-4860-b0da-831d2af9ddbf",
   "metadata": {},
   "outputs": [
    {
     "data": {
      "text/plain": [
       "('orange',)"
      ]
     },
     "execution_count": 18,
     "metadata": {},
     "output_type": "execute_result"
    }
   ],
   "source": [
    "single_item_tuple"
   ]
  },
  {
   "cell_type": "code",
   "execution_count": 19,
   "id": "fafb9b84-eb90-430e-80c8-40843163c05c",
   "metadata": {},
   "outputs": [],
   "source": [
    "#Duplicates, Ordered,Immutable, Mixed Data Type"
   ]
  },
  {
   "cell_type": "code",
   "execution_count": 20,
   "id": "2e8bdf63-57ed-4310-8a0d-9f7e64ac32ea",
   "metadata": {},
   "outputs": [
    {
     "data": {
      "text/plain": [
       "3.14"
      ]
     },
     "execution_count": 20,
     "metadata": {},
     "output_type": "execute_result"
    }
   ],
   "source": [
    "mixed_tuple[2] #ordered ; order starts 0 not from 1"
   ]
  },
  {
   "cell_type": "code",
   "execution_count": 21,
   "id": "97c694e3-b175-42a7-9547-34e6d0615ab5",
   "metadata": {},
   "outputs": [
    {
     "ename": "TypeError",
     "evalue": "'tuple' object does not support item assignment",
     "output_type": "error",
     "traceback": [
      "\u001b[1;31m---------------------------------------------------------------------------\u001b[0m",
      "\u001b[1;31mTypeError\u001b[0m                                 Traceback (most recent call last)",
      "Cell \u001b[1;32mIn[21], line 1\u001b[0m\n\u001b[1;32m----> 1\u001b[0m mixed_tuple[\u001b[38;5;241m2\u001b[39m]\u001b[38;5;241m=\u001b[39m\u001b[38;5;241m1.999\u001b[39m\n",
      "\u001b[1;31mTypeError\u001b[0m: 'tuple' object does not support item assignment"
     ]
    }
   ],
   "source": [
    "mixed_tuple[2]=1.999\n",
    "#error - immutable, ie values in the tuple cannot be changed"
   ]
  },
  {
   "cell_type": "code",
   "execution_count": 22,
   "id": "7fd92fb4-9081-407b-9e7c-0ad79460c85b",
   "metadata": {},
   "outputs": [
    {
     "name": "stdout",
     "output_type": "stream",
     "text": [
      "(1, 'Suroor', 3.14, True, 1, 'Mandal')\n"
     ]
    }
   ],
   "source": [
    "mixed_tuple=(1, \"Suroor\", 3.14, True,1, 'Mandal')\n",
    "print(mixed_tuple)"
   ]
  },
  {
   "cell_type": "code",
   "execution_count": 23,
   "id": "02e211bf-b8a1-4211-a5a0-d31c264c446c",
   "metadata": {},
   "outputs": [],
   "source": [
    "#cannot change any individual element of the tuple"
   ]
  },
  {
   "cell_type": "code",
   "execution_count": 24,
   "id": "04611d05-64c8-4bef-8bc0-ac49fb8c5f2b",
   "metadata": {},
   "outputs": [
    {
     "name": "stdout",
     "output_type": "stream",
     "text": [
      "['__add__', '__class__', '__class_getitem__', '__contains__', '__delattr__', '__dir__', '__doc__', '__eq__', '__format__', '__ge__', '__getattribute__', '__getitem__', '__getnewargs__', '__getstate__', '__gt__', '__hash__', '__init__', '__init_subclass__', '__iter__', '__le__', '__len__', '__lt__', '__mul__', '__ne__', '__new__', '__reduce__', '__reduce_ex__', '__repr__', '__rmul__', '__setattr__', '__sizeof__', '__str__', '__subclasshook__', 'count', 'index'] /t\n"
     ]
    }
   ],
   "source": [
    "print(dir(tuple),'/t')"
   ]
  },
  {
   "cell_type": "code",
   "execution_count": 25,
   "id": "6472664b-22d0-4237-a8be-7a2428dca917",
   "metadata": {},
   "outputs": [
    {
     "data": {
      "text/plain": [
       "3"
      ]
     },
     "execution_count": 25,
     "metadata": {},
     "output_type": "execute_result"
    }
   ],
   "source": [
    "mixed_tuple.count(1)"
   ]
  },
  {
   "cell_type": "code",
   "execution_count": 26,
   "id": "a76551a4-ba98-4fce-8058-bed6e8c4c8f1",
   "metadata": {},
   "outputs": [
    {
     "data": {
      "text/plain": [
       "1"
      ]
     },
     "execution_count": 26,
     "metadata": {},
     "output_type": "execute_result"
    }
   ],
   "source": [
    "mixed_tuple.count(3.14)"
   ]
  },
  {
   "cell_type": "code",
   "execution_count": 29,
   "id": "5cb55f5b-7212-4c34-ac1d-a8d32bca7024",
   "metadata": {},
   "outputs": [
    {
     "ename": "SyntaxError",
     "evalue": "invalid syntax (1870788836.py, line 1)",
     "output_type": "error",
     "traceback": [
      "\u001b[1;36m  Cell \u001b[1;32mIn[29], line 1\u001b[1;36m\u001b[0m\n\u001b[1;33m    methods=[method for method in dir(tuple) if callable(getattr(tuple,method)) and not method.startswith9'_' print(method)\u001b[0m\n\u001b[1;37m                                                                                                          ^\u001b[0m\n\u001b[1;31mSyntaxError\u001b[0m\u001b[1;31m:\u001b[0m invalid syntax\n"
     ]
    }
   ],
   "source": [
    "methods=[method for method in dir(tuple) if callable(getattr(tuple,method)) and not method.startswith9'_' print(method)"
   ]
  },
  {
   "cell_type": "code",
   "execution_count": 33,
   "id": "3fdb8313-0242-4559-9a2a-1f0d8bd2f3bf",
   "metadata": {},
   "outputs": [],
   "source": [
    "notuple =(10,5,8,20,4)"
   ]
  },
  {
   "cell_type": "code",
   "execution_count": 39,
   "id": "38e15e22-5520-4ebf-a494-2ea288639d3e",
   "metadata": {},
   "outputs": [
    {
     "ename": "TypeError",
     "evalue": "'>' not supported between instances of 'str' and 'int'",
     "output_type": "error",
     "traceback": [
      "\u001b[1;31m---------------------------------------------------------------------------\u001b[0m",
      "\u001b[1;31mTypeError\u001b[0m                                 Traceback (most recent call last)",
      "Cell \u001b[1;32mIn[39], line 1\u001b[0m\n\u001b[1;32m----> 1\u001b[0m \u001b[38;5;28mmax\u001b[39m(mixed_tuple)\n",
      "\u001b[1;31mTypeError\u001b[0m: '>' not supported between instances of 'str' and 'int'"
     ]
    }
   ],
   "source": [
    "max(mixed_tuple) #error due to mixed types"
   ]
  },
  {
   "cell_type": "code",
   "execution_count": 34,
   "id": "4a8f6105-bca3-42cc-9aa3-aff27000a2cb",
   "metadata": {},
   "outputs": [
    {
     "data": {
      "text/plain": [
       "20"
      ]
     },
     "execution_count": 34,
     "metadata": {},
     "output_type": "execute_result"
    }
   ],
   "source": [
    "max(notuple)"
   ]
  },
  {
   "cell_type": "code",
   "execution_count": 35,
   "id": "ff463590-e3a3-4133-ab8d-499e6c87d3a8",
   "metadata": {},
   "outputs": [
    {
     "data": {
      "text/plain": [
       "4"
      ]
     },
     "execution_count": 35,
     "metadata": {},
     "output_type": "execute_result"
    }
   ],
   "source": [
    "min(notuple)"
   ]
  },
  {
   "cell_type": "code",
   "execution_count": 36,
   "id": "43ed6ef4-1371-47a4-8ade-5ffaae3eb671",
   "metadata": {},
   "outputs": [
    {
     "data": {
      "text/plain": [
       "47"
      ]
     },
     "execution_count": 36,
     "metadata": {},
     "output_type": "execute_result"
    }
   ],
   "source": [
    "sum(notuple)"
   ]
  },
  {
   "cell_type": "code",
   "execution_count": 37,
   "id": "0c5dad9a-228d-4c13-9e95-66707322fdac",
   "metadata": {},
   "outputs": [
    {
     "data": {
      "text/plain": [
       "3"
      ]
     },
     "execution_count": 37,
     "metadata": {},
     "output_type": "execute_result"
    }
   ],
   "source": [
    "notuple.index(20)"
   ]
  },
  {
   "cell_type": "code",
   "execution_count": 38,
   "id": "f67d622a-d6f4-4af8-8d73-8f0b5c7063d4",
   "metadata": {},
   "outputs": [
    {
     "data": {
      "text/plain": [
       "1"
      ]
     },
     "execution_count": 38,
     "metadata": {},
     "output_type": "execute_result"
    }
   ],
   "source": [
    "notuple.count(5)"
   ]
  },
  {
   "cell_type": "code",
   "execution_count": null,
   "id": "a6ee84b2-32da-4020-ba70-d0f4aa2f5d87",
   "metadata": {},
   "outputs": [],
   "source": []
  }
 ],
 "metadata": {
  "kernelspec": {
   "display_name": "Python 3 (ipykernel)",
   "language": "python",
   "name": "python3"
  },
  "language_info": {
   "codemirror_mode": {
    "name": "ipython",
    "version": 3
   },
   "file_extension": ".py",
   "mimetype": "text/x-python",
   "name": "python",
   "nbconvert_exporter": "python",
   "pygments_lexer": "ipython3",
   "version": "3.13.5"
  }
 },
 "nbformat": 4,
 "nbformat_minor": 5
}
