{
 "cells": [
  {
   "cell_type": "code",
   "execution_count": 1,
   "id": "44d6d7ad-d72a-4833-85bd-61ba863e7725",
   "metadata": {},
   "outputs": [
    {
     "data": {
      "text/plain": [
       "(1, 2, 3, 4, 3, 4, 5, 6)"
      ]
     },
     "execution_count": 1,
     "metadata": {},
     "output_type": "execute_result"
    }
   ],
   "source": [
    "x=1,2,3,4\n",
    "y=3,4,5,6\n",
    "z=x+y\n",
    "z"
   ]
  },
  {
   "cell_type": "markdown",
   "id": "c226591d-d69b-4374-bb97-3f91eac3e937",
   "metadata": {},
   "source": [
    "# Najmul "
   ]
  },
  {
   "cell_type": "code",
   "execution_count": null,
   "id": "792f30eb-a9ed-4b84-a579-efaf30898872",
   "metadata": {},
   "outputs": [],
   "source": []
  }
 ],
 "metadata": {
  "kernelspec": {
   "display_name": "Python 3 (ipykernel)",
   "language": "python",
   "name": "python3"
  },
  "language_info": {
   "codemirror_mode": {
    "name": "ipython",
    "version": 3
   },
   "file_extension": ".py",
   "mimetype": "text/x-python",
   "name": "python",
   "nbconvert_exporter": "python",
   "pygments_lexer": "ipython3",
   "version": "3.13.5"
  }
 },
 "nbformat": 4,
 "nbformat_minor": 5
}
