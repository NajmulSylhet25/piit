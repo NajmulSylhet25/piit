{
 "cells": [
  {
   "cell_type": "markdown",
   "id": "ab7633e6-ae51-48a3-a625-b35ebf6a527d",
   "metadata": {},
   "source": [
    "# Topic of the file"
   ]
  },
  {
   "cell_type": "markdown",
   "id": "ec450c98-3e72-40f9-938f-8b2a62c5cf18",
   "metadata": {},
   "source": [
    "# Sub Heading"
   ]
  },
  {
   "cell_type": "markdown",
   "id": "364ae85f-384b-402d-bbcf-8a9edb1d33c2",
   "metadata": {},
   "source": [
    "### Sub Sub heading"
   ]
  },
  {
   "cell_type": "code",
   "execution_count": 6,
   "id": "22d91aea-ffb1-4562-81c7-a8047d87a923",
   "metadata": {},
   "outputs": [],
   "source": [
    "x= [1, 2, 5, 10,1] #run this line"
   ]
  },
  {
   "cell_type": "code",
   "execution_count": 7,
   "id": "74910956-e1ac-4530-830b-0840ba7bed83",
   "metadata": {},
   "outputs": [
    {
     "data": {
      "text/plain": [
       "[1, 2, 5, 10, 1]"
      ]
     },
     "execution_count": 7,
     "metadata": {},
     "output_type": "execute_result"
    }
   ],
   "source": [
    "x"
   ]
  },
  {
   "cell_type": "code",
   "execution_count": 8,
   "id": "7749f2b0-9e01-4511-9d72-2b89c5893ff1",
   "metadata": {},
   "outputs": [
    {
     "name": "stdout",
     "output_type": "stream",
     "text": [
      "[1, 2, 5, 10, 1]\n"
     ]
    }
   ],
   "source": [
    "print (x) "
   ]
  },
  {
   "cell_type": "markdown",
   "id": "7ca6e129-0563-4cdc-9807-3975602d97c7",
   "metadata": {},
   "source": [
    "-Every cell on the right side has icons \n",
    "-Duplicates\n",
    "-Move up\n",
    "-Move down \n",
    "-Incert new cell avobe this cell \n",
    "-Insert new cell below this cell\n",
    "-Delete this cell"
   ]
  },
  {
   "cell_type": "code",
   "execution_count": 9,
   "id": "b68b8a05-01b2-4cae-9d94-15b594d812f6",
   "metadata": {},
   "outputs": [
    {
     "data": {
      "text/plain": [
       "[1, 2, 5, 10, 1]"
      ]
     },
     "execution_count": 9,
     "metadata": {},
     "output_type": "execute_result"
    }
   ],
   "source": [
    "x"
   ]
  },
  {
   "cell_type": "markdown",
   "id": "3f1c445b-a810-41df-aea6-45f6f8fe2fc6",
   "metadata": {},
   "source": [
    "-A raw cell in Jupyter Notebook is a type of cell that is not processed or executed by the notebook kernel. Instead, it is used for content that you want to include in your notebook but do not want to run as code or render as Markdown.\n",
    "-Code\n",
    "-Markdown\n",
    "-Raw\n"
   ]
  },
  {
   "cell_type": "markdown",
   "id": "78ffcee5-cdf7-434a-beaa-276aeca9b0e7",
   "metadata": {},
   "source": [
    "## Kernel in Jupyter\n",
    "-A kernel in Jupyter Notebook is the computational engine that executes the code you write in your notebook. It allows you to run code in various programming languages, such as Python, R, Julia, and more, depending on the installed kernels."
   ]
  },
  {
   "cell_type": "code",
   "execution_count": 10,
   "id": "576d8a89-94f9-4be4-84f5-635fc71282a2",
   "metadata": {},
   "outputs": [
    {
     "name": "stdout",
     "output_type": "stream",
     "text": [
      "Hello PIIT Stident\n"
     ]
    }
   ],
   "source": [
    "print ('Hello PIIT Stident')"
   ]
  },
  {
   "cell_type": "markdown",
   "id": "701ff9b8-f3f9-40c3-aebb-079dbb87c56f",
   "metadata": {},
   "source": [
    "## Separator\n",
    "-Sep\n",
    "-The Sep arguments define what to print between multiple values "
   ]
  },
  {
   "cell_type": "code",
   "execution_count": 21,
   "id": "177d7168-d125-4e83-9f88-1eca9669fa1f",
   "metadata": {},
   "outputs": [
    {
     "name": "stdout",
     "output_type": "stream",
     "text": [
      "PIIT,,Suroor,,Mandal,,30\n"
     ]
    }
   ],
   "source": [
    "print('PIIT', 'Suroor', 'Mandal', 30, sep=',,')"
   ]
  },
  {
   "cell_type": "markdown",
   "id": "b4b59bbc-0c39-4ea4-91e4-0e2cb810d443",
   "metadata": {},
   "source": [
    "## End of line character can be marked up also\n",
    "-End of argument control what comes after the print statement (default is /N - newline)."
   ]
  },
  {
   "cell_type": "code",
   "execution_count": 25,
   "id": "f185fe55-7cde-48f5-a21c-79efb7dfb3a2",
   "metadata": {},
   "outputs": [
    {
     "name": "stdout",
     "output_type": "stream",
     "text": [
      "Hello Mandal"
     ]
    }
   ],
   "source": [
    "print('Hello', 'Mandal', end='')"
   ]
  },
  {
   "cell_type": "code",
   "execution_count": 26,
   "id": "8e0c10ea-b497-4d80-bb96-0584eafc2430",
   "metadata": {},
   "outputs": [
    {
     "name": "stdout",
     "output_type": "stream",
     "text": [
      "Hello Mandal/n"
     ]
    }
   ],
   "source": [
    "print('Hello', 'Mandal', end='/n')"
   ]
  },
  {
   "cell_type": "code",
   "execution_count": 30,
   "id": "71347b33-fefd-41e4-a84b-cc028041ce30",
   "metadata": {},
   "outputs": [
    {
     "name": "stdout",
     "output_type": "stream",
     "text": [
      "Dhiraj-Upadhyaya/n/nteaching PIIT students\n"
     ]
    }
   ],
   "source": [
    "print('Dhiraj', 'Upadhyaya', sep='-', end='/n/n')\n",
    "print('teaching PIIT students')"
   ]
  },
  {
   "cell_type": "markdown",
   "id": "3b187999-dfc5-4f73-a8f4-6e1600bfa74a",
   "metadata": {},
   "source": [
    "##Formated (f) Strings"
   ]
  },
  {
   "cell_type": "code",
   "execution_count": 31,
   "id": "b81061a7-a2f2-4f80-bc85-8e3753a2a215",
   "metadata": {},
   "outputs": [
    {
     "name": "stdout",
     "output_type": "stream",
     "text": [
      "Mandal-95\n"
     ]
    }
   ],
   "source": [
    "name= \"Mandal\"\n",
    "score=95 \n",
    "print(name, score, sep='-')"
   ]
  },
  {
   "cell_type": "markdown",
   "id": "66facc7a-8289-47a7-a74b-96609df9258a",
   "metadata": {},
   "source": [
    "#Format Command"
   ]
  },
  {
   "cell_type": "code",
   "execution_count": 32,
   "id": "585af9e9-e68e-4fa6-9bca-7e7a839006a5",
   "metadata": {},
   "outputs": [
    {
     "name": "stdout",
     "output_type": "stream",
     "text": [
      "Mandal scored 95 marks.\n"
     ]
    }
   ],
   "source": [
    "print (name, 'scored', score, 'marks.')"
   ]
  },
  {
   "cell_type": "code",
   "execution_count": 36,
   "id": "5983b4c1-c87f-41c0-9a27-076d4faf6107",
   "metadata": {},
   "outputs": [
    {
     "name": "stdout",
     "output_type": "stream",
     "text": [
      "Mandal scored 95 marks.\n"
     ]
    }
   ],
   "source": [
    "print(f\"{name} scored {score} marks.\")"
   ]
  },
  {
   "cell_type": "code",
   "execution_count": 37,
   "id": "3a9918a0-1d80-48e6-9bf2-ebeb9796cf03",
   "metadata": {},
   "outputs": [
    {
     "name": "stdout",
     "output_type": "stream",
     "text": [
      "name of student is Amandeep and his/her age is 20\n"
     ]
    }
   ],
   "source": [
    "name, age = 'Amandeep', 20\n",
    "print (f'name of student is {name} and his/her age is {age}')"
   ]
  },
  {
   "cell_type": "markdown",
   "id": "a9d326b0-ade6-4428-b050-02244f2196a3",
   "metadata": {},
   "source": [
    "#Format Cmmand\n",
    "-Old Command"
   ]
  },
  {
   "cell_type": "code",
   "execution_count": 39,
   "id": "1cc9564b-d1a7-4b16-b033-da6cef8a5ce8",
   "metadata": {},
   "outputs": [
    {
     "name": "stdout",
     "output_type": "stream",
     "text": [
      "Name: Najmul, Score: 85\n"
     ]
    }
   ],
   "source": [
    "print(\"Name: {}, Score: {}\". format(\"Najmul\", 85))"
   ]
  },
  {
   "cell_type": "code",
   "execution_count": 40,
   "id": "38243ffc-07b1-497a-b0a5-94ba2765fe3b",
   "metadata": {},
   "outputs": [
    {
     "name": "stdout",
     "output_type": "stream",
     "text": [
      "name : Amandeep, age : 20\n"
     ]
    }
   ],
   "source": [
    "print(\"name : {}, age : {}\". format ('Amandeep',20))"
   ]
  },
  {
   "cell_type": "markdown",
   "id": "e606ceb4-ebee-4462-b978-fb4a74f70e47",
   "metadata": {},
   "source": [
    "#Printing List of Ranges"
   ]
  },
  {
   "cell_type": "code",
   "execution_count": 46,
   "id": "6cd100b0-4679-4ff5-9158-bdab6bd2584d",
   "metadata": {
    "scrolled": true
   },
   "outputs": [
    {
     "data": {
      "text/plain": [
       "range(5, 10, 2)"
      ]
     },
     "execution_count": 46,
     "metadata": {},
     "output_type": "execute_result"
    }
   ],
   "source": [
    "range(5,10,2)"
   ]
  },
  {
   "cell_type": "code",
   "execution_count": 47,
   "id": "22ac5579-c3d6-4a6b-9f0e-077faccba874",
   "metadata": {
    "scrolled": true
   },
   "outputs": [
    {
     "name": "stdout",
     "output_type": "stream",
     "text": [
      "[5, 7, 9]\n"
     ]
    }
   ],
   "source": [
    "print (list(range (5,10,2)))"
   ]
  },
  {
   "cell_type": "code",
   "execution_count": 48,
   "id": "a55c9d9f-c381-4d28-a6e4-fe33493aa9e3",
   "metadata": {},
   "outputs": [
    {
     "name": "stdout",
     "output_type": "stream",
     "text": [
      "[0, 1, 2, 3, 4]\n"
     ]
    }
   ],
   "source": [
    "print(list(range(5))) #{0,1,2,3,4]"
   ]
  },
  {
   "cell_type": "code",
   "execution_count": 41,
   "id": "a35f7dab-1cfd-4d35-aa2f-c835d0339321",
   "metadata": {},
   "outputs": [
    {
     "name": "stdout",
     "output_type": "stream",
     "text": [
      "[0, 1, 2, 3, 4]\n"
     ]
    }
   ],
   "source": [
    "print (list(range(5))) # [0,1,2,3,4]"
   ]
  },
  {
   "cell_type": "markdown",
   "id": "bec63106-5399-4677-9bf6-b77a5e2081c7",
   "metadata": {},
   "source": [
    "#Printing with Escape Characters"
   ]
  },
  {
   "cell_type": "code",
   "execution_count": 44,
   "id": "73035b17-e1b8-46ae-b0f6-1a472bc22aaf",
   "metadata": {},
   "outputs": [
    {
     "name": "stdout",
     "output_type": "stream",
     "text": [
      "Suroor /nMandal\n"
     ]
    }
   ],
   "source": [
    "print (\"Suroor /nMandal\") # /n for new line"
   ]
  },
  {
   "cell_type": "code",
   "execution_count": 45,
   "id": "e2047d03-9f5a-467b-9b7c-77cfaf620013",
   "metadata": {},
   "outputs": [
    {
     "name": "stdout",
     "output_type": "stream",
     "text": [
      "syed /t Suroor /t Mandal\n"
     ]
    }
   ],
   "source": [
    "print (\"syed /t Suroor /t Mandal\") #/t for tab"
   ]
  },
  {
   "cell_type": "markdown",
   "id": "d32799eb-2635-483e-9119-d31dc523e5b0",
   "metadata": {},
   "source": [
    "#The End"
   ]
  },
  {
   "cell_type": "code",
   "execution_count": null,
   "id": "4710f217-9b2b-45bd-8cda-0b8d61f42be2",
   "metadata": {},
   "outputs": [],
   "source": []
  }
 ],
 "metadata": {
  "kernelspec": {
   "display_name": "Python 3 (ipykernel)",
   "language": "python",
   "name": "python3"
  },
  "language_info": {
   "codemirror_mode": {
    "name": "ipython",
    "version": 3
   },
   "file_extension": ".py",
   "mimetype": "text/x-python",
   "name": "python",
   "nbconvert_exporter": "python",
   "pygments_lexer": "ipython3",
   "version": "3.13.5"
  }
 },
 "nbformat": 4,
 "nbformat_minor": 5
}
