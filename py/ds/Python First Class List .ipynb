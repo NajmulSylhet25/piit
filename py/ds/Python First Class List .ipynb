{
 "cells": [
  {
   "cell_type": "markdown",
   "id": "7f247a81-f49c-4269-b072-054c1ba3ea0e",
   "metadata": {},
   "source": [
    "List"
   ]
  },
  {
   "cell_type": "code",
   "execution_count": 1,
   "id": "01a18f84-1567-4aa0-84cf-f831a6c05f3c",
   "metadata": {},
   "outputs": [],
   "source": [
    "# List python-Interpreted Language -line by line"
   ]
  },
  {
   "cell_type": "code",
   "execution_count": 2,
   "id": "1a961559-d829-4d49-bbf8-0d05ea58eb34",
   "metadata": {},
   "outputs": [],
   "source": [
    "# Run a line (Execute) - Shift + enter "
   ]
  },
  {
   "cell_type": "markdown",
   "id": "e6028bcf-531a-4e6d-8338-0ec0a61fe8a7",
   "metadata": {},
   "source": [
    "## 1st List"
   ]
  },
  {
   "cell_type": "code",
   "execution_count": 11,
   "id": "62a3b0d5-ed4d-4b4f-a122-8071dba720e0",
   "metadata": {},
   "outputs": [],
   "source": [
    "x = [1,2,3,5] #variable which gets stored in environment"
   ]
  },
  {
   "cell_type": "code",
   "execution_count": 12,
   "id": "2d3c7669-a0f4-4bc4-9483-eb2ce468a018",
   "metadata": {},
   "outputs": [
    {
     "data": {
      "text/plain": [
       "[1, 2, 3, 5]"
      ]
     },
     "execution_count": 12,
     "metadata": {},
     "output_type": "execute_result"
    }
   ],
   "source": [
    "x #List of numbers"
   ]
  },
  {
   "cell_type": "code",
   "execution_count": 13,
   "id": "c20a2ca5-21ce-4b0e-8e8e-7de902123669",
   "metadata": {},
   "outputs": [
    {
     "name": "stdout",
     "output_type": "stream",
     "text": [
      "[1, 2, 3, 5]\n"
     ]
    }
   ],
   "source": [
    "print(x)"
   ]
  },
  {
   "cell_type": "code",
   "execution_count": 17,
   "id": "733c6fa9-159f-4e8a-acb6-8457f92f6664",
   "metadata": {},
   "outputs": [
    {
     "data": {
      "text/plain": [
       "list"
      ]
     },
     "execution_count": 17,
     "metadata": {},
     "output_type": "execute_result"
    }
   ],
   "source": [
    "type(x)"
   ]
  },
  {
   "cell_type": "markdown",
   "id": "68fce98f-a207-4397-904e-c873e83278eb",
   "metadata": {},
   "source": [
    "## 2nd List"
   ]
  },
  {
   "cell_type": "code",
   "execution_count": 15,
   "id": "61b3190c-b502-4bfa-821e-d7c0a39f43b7",
   "metadata": {},
   "outputs": [],
   "source": [
    "x1= [1,10,15,67, \"Najmul\" , True, 45,10] #list of mixed data type- no, string, logical\n",
    "#duplicate 10 values\n",
    "#for string the quotes should matching -\"\", '' "
   ]
  },
  {
   "cell_type": "code",
   "execution_count": 18,
   "id": "8b905b0e-cba4-4529-a4e8-c44e5a3f88fc",
   "metadata": {},
   "outputs": [
    {
     "data": {
      "text/plain": [
       "list"
      ]
     },
     "execution_count": 18,
     "metadata": {},
     "output_type": "execute_result"
    }
   ],
   "source": [
    "type(x1) "
   ]
  },
  {
   "cell_type": "code",
   "execution_count": 20,
   "id": "243bc79d-db67-49ac-b3cb-d5fcf71ad48b",
   "metadata": {},
   "outputs": [
    {
     "name": "stdout",
     "output_type": "stream",
     "text": [
      "[1, 10, 15, 67, 'Najmul', True, 45]\n"
     ]
    }
   ],
   "source": [
    "print(x1)"
   ]
  },
  {
   "cell_type": "markdown",
   "id": "165b8285-a711-4fc2-b5ba-de9da0912e78",
   "metadata": {},
   "source": [
    "### Length of the List"
   ]
  },
  {
   "cell_type": "code",
   "execution_count": 23,
   "id": "d5ebb943-9cc0-49b1-95d1-b6090eb4778f",
   "metadata": {
    "scrolled": true
   },
   "outputs": [
    {
     "data": {
      "text/plain": [
       "7"
      ]
     },
     "execution_count": 23,
     "metadata": {},
     "output_type": "execute_result"
    }
   ],
   "source": [
    "len(x1)"
   ]
  },
  {
   "cell_type": "markdown",
   "id": "9f1ea0f5-a06a-4df4-abf6-2ddda954a65b",
   "metadata": {},
   "source": [
    "Ordered\n",
    "filter by Position"
   ]
  },
  {
   "cell_type": "code",
   "execution_count": 24,
   "id": "5b72a460-ab68-4f11-8812-d45573f04875",
   "metadata": {},
   "outputs": [
    {
     "data": {
      "text/plain": [
       "1"
      ]
     },
     "execution_count": 24,
     "metadata": {},
     "output_type": "execute_result"
    }
   ],
   "source": [
    "\n",
    "x1[0] #first position starts from 0 value between square brackets [index]"
   ]
  },
  {
   "cell_type": "code",
   "execution_count": 25,
   "id": "31dec43d-6d77-43de-b4ac-504535433bd4",
   "metadata": {},
   "outputs": [
    {
     "data": {
      "text/plain": [
       "'Najmul'"
      ]
     },
     "execution_count": 25,
     "metadata": {},
     "output_type": "execute_result"
    }
   ],
   "source": [
    "x1[4]"
   ]
  },
  {
   "cell_type": "markdown",
   "id": "6719bbf4-dee2-4eb9-88a2-89c5adaa7ff8",
   "metadata": {},
   "source": [
    "###Change value/mutable "
   ]
  },
  {
   "cell_type": "code",
   "execution_count": 28,
   "id": "51077813-d191-450b-a4ac-5b139df82867",
   "metadata": {},
   "outputs": [],
   "source": [
    "x1[4]= 'Hossain' #assign new value at position 4+1 in variable x1"
   ]
  },
  {
   "cell_type": "code",
   "execution_count": 29,
   "id": "56224f07-b0a0-475b-ac80-359fe0c05ac2",
   "metadata": {},
   "outputs": [
    {
     "name": "stdout",
     "output_type": "stream",
     "text": [
      "[1, 10, 15, 67, 'Hossain', True, 45]\n"
     ]
    }
   ],
   "source": [
    "print(x1)"
   ]
  },
  {
   "cell_type": "markdown",
   "id": "a29ba8f7-86ec-4d7e-a0b4-62fb0cf40908",
   "metadata": {},
   "source": [
    "3rd List"
   ]
  },
  {
   "cell_type": "code",
   "execution_count": 30,
   "id": "3fc81f25-d992-4ca9-9992-121bdf82b88e",
   "metadata": {},
   "outputs": [
    {
     "data": {
      "text/plain": [
       "[1, 2, 3, 5]"
      ]
     },
     "execution_count": 30,
     "metadata": {},
     "output_type": "execute_result"
    }
   ],
   "source": [
    "x"
   ]
  },
  {
   "cell_type": "code",
   "execution_count": 31,
   "id": "16c7a073-ac88-4659-87d6-7f935b401dd9",
   "metadata": {},
   "outputs": [
    {
     "data": {
      "text/plain": [
       "[1, 10, 15, 67, 'Hossain', True, 45]"
      ]
     },
     "execution_count": 31,
     "metadata": {},
     "output_type": "execute_result"
    }
   ],
   "source": [
    "x1"
   ]
  },
  {
   "cell_type": "code",
   "execution_count": 33,
   "id": "3495e96c-3360-4a05-b84a-db4c53e4d50a",
   "metadata": {},
   "outputs": [],
   "source": [
    "x2=x+x1"
   ]
  },
  {
   "cell_type": "code",
   "execution_count": 35,
   "id": "339aa5cd-6506-4df9-b401-7dec4f508f45",
   "metadata": {},
   "outputs": [
    {
     "name": "stdout",
     "output_type": "stream",
     "text": [
      "[1, 2, 3, 5, 1, 10, 15, 67, 'Hossain', True, 45]\n"
     ]
    }
   ],
   "source": [
    "print(x2)"
   ]
  },
  {
   "cell_type": "markdown",
   "id": "bf340fc8-21bc-4b92-813f-454f4d9d3347",
   "metadata": {},
   "source": [
    "### Other Function of List "
   ]
  },
  {
   "cell_type": "code",
   "execution_count": 36,
   "id": "40bfc88b-d782-4977-836a-c463453e1f9e",
   "metadata": {},
   "outputs": [],
   "source": [
    "x.append ('Diraj')"
   ]
  },
  {
   "cell_type": "code",
   "execution_count": 38,
   "id": "92755b44-4240-4505-9afc-c018cf97e91f",
   "metadata": {},
   "outputs": [
    {
     "data": {
      "text/plain": [
       "[1, 2, 3, 5, 'Diraj']"
      ]
     },
     "execution_count": 38,
     "metadata": {},
     "output_type": "execute_result"
    }
   ],
   "source": [
    "x"
   ]
  },
  {
   "cell_type": "code",
   "execution_count": 40,
   "id": "4505a081-c922-440b-8f1a-3e20672d8e70",
   "metadata": {},
   "outputs": [],
   "source": [
    "x.append(100)"
   ]
  },
  {
   "cell_type": "code",
   "execution_count": 41,
   "id": "24de3d6f-1640-45b5-8840-9c039d12f8e2",
   "metadata": {},
   "outputs": [
    {
     "data": {
      "text/plain": [
       "[1, 2, 3, 5, 'Diraj', 100]"
      ]
     },
     "execution_count": 41,
     "metadata": {},
     "output_type": "execute_result"
    }
   ],
   "source": [
    "x"
   ]
  },
  {
   "cell_type": "code",
   "execution_count": 45,
   "id": "bdd39f64-fbdd-445c-9c3b-26e0609e4e05",
   "metadata": {},
   "outputs": [],
   "source": [
    "x.insert(1, 'professor')"
   ]
  },
  {
   "cell_type": "code",
   "execution_count": 46,
   "id": "b3b91828-f789-480d-9dfe-f17b613948e9",
   "metadata": {},
   "outputs": [
    {
     "data": {
      "text/plain": [
       "[1, 'professor', 'professor', 2, 3, 5, 'Diraj', 100]"
      ]
     },
     "execution_count": 46,
     "metadata": {},
     "output_type": "execute_result"
    }
   ],
   "source": [
    "x"
   ]
  },
  {
   "cell_type": "code",
   "execution_count": 47,
   "id": "8c39ba4d-ff21-43a3-a7d9-6cd57f15648c",
   "metadata": {},
   "outputs": [],
   "source": [
    "x.reverse()"
   ]
  },
  {
   "cell_type": "code",
   "execution_count": 48,
   "id": "d9018f22-3d6d-4667-b506-8907c2da5b7f",
   "metadata": {},
   "outputs": [
    {
     "data": {
      "text/plain": [
       "[100, 'Diraj', 5, 3, 2, 'professor', 'professor', 1]"
      ]
     },
     "execution_count": 48,
     "metadata": {},
     "output_type": "execute_result"
    }
   ],
   "source": [
    "x"
   ]
  },
  {
   "cell_type": "code",
   "execution_count": 49,
   "id": "63390216-c5ed-43bc-9af2-0079ad94c41e",
   "metadata": {},
   "outputs": [
    {
     "data": {
      "text/plain": [
       "1"
      ]
     },
     "execution_count": 49,
     "metadata": {},
     "output_type": "execute_result"
    }
   ],
   "source": [
    "x.count(3)"
   ]
  },
  {
   "cell_type": "code",
   "execution_count": 50,
   "id": "92bacece-261d-4c2b-bf2b-9eb20e78fad8",
   "metadata": {},
   "outputs": [],
   "source": [
    "x.remove(2) #value -2 removed"
   ]
  },
  {
   "cell_type": "code",
   "execution_count": 51,
   "id": "1e45f088-ba64-4820-8f58-0ba68718e83b",
   "metadata": {},
   "outputs": [
    {
     "data": {
      "text/plain": [
       "[100, 'Diraj', 5, 3, 'professor', 'professor', 1]"
      ]
     },
     "execution_count": 51,
     "metadata": {},
     "output_type": "execute_result"
    }
   ],
   "source": [
    "x"
   ]
  },
  {
   "cell_type": "code",
   "execution_count": 52,
   "id": "d97c64cb-222e-40c3-9ce7-4aed193d52f2",
   "metadata": {},
   "outputs": [],
   "source": [
    "x.remove (100) #remove value 100"
   ]
  },
  {
   "cell_type": "code",
   "execution_count": 53,
   "id": "66af4b59-54e6-481a-a60e-ae81f3e4301e",
   "metadata": {},
   "outputs": [
    {
     "data": {
      "text/plain": [
       "['Diraj', 5, 3, 'professor', 'professor', 1]"
      ]
     },
     "execution_count": 53,
     "metadata": {},
     "output_type": "execute_result"
    }
   ],
   "source": [
    "x"
   ]
  },
  {
   "cell_type": "code",
   "execution_count": 54,
   "id": "0ee661fd-7cc4-4971-8acd-c64dcbe35fcc",
   "metadata": {},
   "outputs": [
    {
     "data": {
      "text/plain": [
       "<function list.sort(*, key=None, reverse=False)>"
      ]
     },
     "execution_count": 54,
     "metadata": {},
     "output_type": "execute_result"
    }
   ],
   "source": [
    "x.sort"
   ]
  },
  {
   "cell_type": "code",
   "execution_count": 55,
   "id": "fc6c53be-3344-4115-940a-a056ce55e1ae",
   "metadata": {},
   "outputs": [
    {
     "data": {
      "text/plain": [
       "['Diraj', 5, 3, 'professor', 'professor', 1]"
      ]
     },
     "execution_count": 55,
     "metadata": {},
     "output_type": "execute_result"
    }
   ],
   "source": [
    "x"
   ]
  },
  {
   "cell_type": "code",
   "execution_count": 56,
   "id": "ebbd4078-d1db-481e-8d50-ef5fda7d6243",
   "metadata": {},
   "outputs": [
    {
     "data": {
      "text/plain": [
       "'Diraj'"
      ]
     },
     "execution_count": 56,
     "metadata": {},
     "output_type": "execute_result"
    }
   ],
   "source": [
    "x.pop(0)"
   ]
  },
  {
   "cell_type": "code",
   "execution_count": 57,
   "id": "3287b9c2-62e1-4ac7-8ddb-86105a26afce",
   "metadata": {},
   "outputs": [
    {
     "data": {
      "text/plain": [
       "[5, 3, 'professor', 'professor', 1]"
      ]
     },
     "execution_count": 57,
     "metadata": {},
     "output_type": "execute_result"
    }
   ],
   "source": [
    "x"
   ]
  },
  {
   "cell_type": "code",
   "execution_count": 58,
   "id": "05e30830-bc1b-4a44-b5a0-e2f79d05d3d8",
   "metadata": {},
   "outputs": [
    {
     "data": {
      "text/plain": [
       "5"
      ]
     },
     "execution_count": 58,
     "metadata": {},
     "output_type": "execute_result"
    }
   ],
   "source": [
    "x.pop(0)"
   ]
  },
  {
   "cell_type": "code",
   "execution_count": 59,
   "id": "36ca8457-f84e-4daf-9883-3dd6dd8b6000",
   "metadata": {},
   "outputs": [
    {
     "data": {
      "text/plain": [
       "[3, 'professor', 'professor', 1]"
      ]
     },
     "execution_count": 59,
     "metadata": {},
     "output_type": "execute_result"
    }
   ],
   "source": [
    "x"
   ]
  },
  {
   "cell_type": "code",
   "execution_count": 60,
   "id": "d8a2352e-9077-4805-8e50-6a5a66fbd385",
   "metadata": {},
   "outputs": [],
   "source": [
    "x.remove(1)"
   ]
  },
  {
   "cell_type": "code",
   "execution_count": 61,
   "id": "b51c78fa-588f-4dc8-995d-39c50a6bca90",
   "metadata": {},
   "outputs": [
    {
     "data": {
      "text/plain": [
       "[3, 'professor', 'professor']"
      ]
     },
     "execution_count": 61,
     "metadata": {},
     "output_type": "execute_result"
    }
   ],
   "source": [
    "x"
   ]
  },
  {
   "cell_type": "code",
   "execution_count": null,
   "id": "327c463c-906b-45f0-b984-3a05d3609dc0",
   "metadata": {},
   "outputs": [],
   "source": [
    "#The End "
   ]
  }
 ],
 "metadata": {
  "kernelspec": {
   "display_name": "Python 3 (ipykernel)",
   "language": "python",
   "name": "python3"
  },
  "language_info": {
   "codemirror_mode": {
    "name": "ipython",
    "version": 3
   },
   "file_extension": ".py",
   "mimetype": "text/x-python",
   "name": "python",
   "nbconvert_exporter": "python",
   "pygments_lexer": "ipython3",
   "version": "3.13.5"
  }
 },
 "nbformat": 4,
 "nbformat_minor": 5
}
